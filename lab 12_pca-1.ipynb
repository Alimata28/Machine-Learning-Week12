{
 "cells": [
  {
   "cell_type": "code",
   "execution_count": null,
   "id": "54b0cbdb",
   "metadata": {},
   "outputs": [],
   "source": [
    "import pandas as pd\n",
    "import numpy as np\n",
    "import matplotlib.pyplot as plt\n",
    "%matplotlib inline\n",
    "import seaborn as sns"
   ]
  },
  {
   "cell_type": "code",
   "execution_count": null,
   "id": "53affe41",
   "metadata": {},
   "outputs": [],
   "source": [
    "from tensorflow.keras.datasets import cifar10\n",
    "(x_train,y_train),(x_test,y_test)=cifar10.load_data()\n",
    "print(\"training data shape:\", x_train.shape)\n",
    "print(\"test data shape:\", x_test.shape)"
   ]
  },
  {
   "cell_type": "code",
   "execution_count": null,
   "id": "f031dcd0",
   "metadata": {},
   "outputs": [],
   "source": [
    "classes = np.unique(y_train)\n",
    "nClasses = len(classes)\n",
    "print('total number of outputs:',nClasses)\n",
    "print('output classes:',classes)"
   ]
  },
  {
   "cell_type": "code",
   "execution_count": null,
   "id": "175d9019",
   "metadata": {},
   "outputs": [],
   "source": [
    "label_dict={\n",
    "    0: 'airplane',\n",
    "    1:'automobile',\n",
    "    3:'cat',\n",
    "    4:'deer',\n",
    "    5:'dog',\n",
    "    6:'frog',\n",
    "    7:'horse',\n",
    "    8:'ship',\n",
    "    9:'truck'\n",
    "}"
   ]
  },
  {
   "cell_type": "code",
   "execution_count": null,
   "id": "a0d53d25",
   "metadata": {},
   "outputs": [],
   "source": [
    "plt.figure(figsize=[5,5])\n",
    "plt.subplot(121)\n",
    "curr_img = np.reshape(x_train[0],(32,32,3))\n",
    "plt.imshow(curr_img)\n",
    "print(plt.titl(\"(Label:\" +str(label_dict[y_train[0][0]])+\")\"))\n",
    "\n",
    "plt.subplot(122)\n",
    "curr_img = np.reshape(x_test[0],(32,32,3))\n",
    "plt.imshow(curr_img)\n",
    "print(plt.title(\"(Label:\" +str(label_dict[y_test[0][0]])+\")\"))"
   ]
  },
  {
   "cell_type": "code",
   "execution_count": null,
   "id": "19a9a729",
   "metadata": {},
   "outputs": [],
   "source": [
    "np.min(x_train),np.max(x_train)"
   ]
  },
  {
   "cell_type": "code",
   "execution_count": null,
   "id": "4ce4b4a5",
   "metadata": {},
   "outputs": [],
   "source": [
    "x_train = x_train/255.0"
   ]
  },
  {
   "cell_type": "code",
   "execution_count": null,
   "id": "08cc83ef",
   "metadata": {},
   "outputs": [],
   "source": [
    "np.min(x_train),np.max(x_train)"
   ]
  },
  {
   "cell_type": "code",
   "execution_count": null,
   "id": "0cf824b2",
   "metadata": {},
   "outputs": [],
   "source": [
    "x_train_flat = x_train.reshape(-1,3072)\n",
    "feat_cols = ['pixel'+str(i) for i in range(x_train_flat.shape[1])]\n",
    "df_cifar = pd.DataFrame(x_train_flat,columns = feat_cols)\n",
    "df_cifar['label'] = y_train\n",
    "print('size of dataframe:{}'.format(df_cifar.shape))"
   ]
  },
  {
   "cell_type": "code",
   "execution_count": null,
   "id": "b9ccf973",
   "metadata": {},
   "outputs": [],
   "source": [
    "df_cifar.head()"
   ]
  },
  {
   "cell_type": "code",
   "execution_count": null,
   "id": "6e0a5cd3",
   "metadata": {},
   "outputs": [],
   "source": [
    "from sklearn.decomposition import PCA\n",
    "pca_cifar = PCA(n_components=2)\n",
    "principalcomponent_cifar = pca_cifar.fit_transform(df_cifar.iloc[:,:-1])"
   ]
  },
  {
   "cell_type": "code",
   "execution_count": null,
   "id": "3cbdc955",
   "metadata": {},
   "outputs": [],
   "source": [
    "principal_cifar_Df = pd.DataFrame(data=principalcomponent_cifar,columns=['principal component 1','principal component 2'])\n",
    "principal_cifar_Df['y']=y_train"
   ]
  },
  {
   "cell_type": "code",
   "execution_count": null,
   "id": "566caf7e",
   "metadata": {},
   "outputs": [],
   "source": [
    "principal_cifar_Df.head()"
   ]
  },
  {
   "cell_type": "code",
   "execution_count": null,
   "id": "78f85350",
   "metadata": {},
   "outputs": [],
   "source": [
    "pca_cifar.explained_variance_ratio_"
   ]
  },
  {
   "cell_type": "code",
   "execution_count": null,
   "id": "eb30424b",
   "metadata": {},
   "outputs": [],
   "source": [
    "plt.figure(figsize=(16,10))\n",
    "sns.scatterplot(\n",
    "    x=\"principal component 1\",y=\"principal component 2\",\n",
    "    hue=\"y\",\n",
    "    palette=sns.color_palette(\"hls\",10),\n",
    "    data=principal_cifar_Df,\n",
    "    legend=\"full\",\n",
    "    alpha=0.3\n",
    ")"
   ]
  },
  {
   "cell_type": "code",
   "execution_count": null,
   "id": "2c0d97da",
   "metadata": {},
   "outputs": [],
   "source": []
  }
 ],
 "metadata": {
  "kernelspec": {
   "display_name": "Python 3 (ipykernel)",
   "language": "python",
   "name": "python3"
  },
  "language_info": {
   "codemirror_mode": {
    "name": "ipython",
    "version": 3
   },
   "file_extension": ".py",
   "mimetype": "text/x-python",
   "name": "python",
   "nbconvert_exporter": "python",
   "pygments_lexer": "ipython3",
   "version": "3.11.5"
  }
 },
 "nbformat": 4,
 "nbformat_minor": 5
}
